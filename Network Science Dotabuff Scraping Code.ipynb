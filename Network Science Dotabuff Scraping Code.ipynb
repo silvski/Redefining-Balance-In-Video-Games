{
 "cells": [
  {
   "cell_type": "markdown",
   "metadata": {},
   "source": [
    "## Import Packages"
   ]
  },
  {
   "cell_type": "code",
   "execution_count": 1,
   "metadata": {
    "ExecuteTime": {
     "end_time": "2020-03-04T07:43:43.257115Z",
     "start_time": "2020-03-04T07:43:42.001837Z"
    }
   },
   "outputs": [],
   "source": [
    "import re\n",
    "import pandas as pd\n",
    "import numpy as np\n",
    "import requests\n",
    "from bs4 import BeautifulSoup\n",
    "from time import sleep\n",
    "from functools import reduce\n",
    "from selenium import webdriver\n",
    "# from selenium.webdriver.support.select import Select\n",
    "from selenium.webdriver.common.action_chains import ActionChains\n",
    "from selenium.webdriver.common.keys import Keys"
   ]
  },
  {
   "cell_type": "markdown",
   "metadata": {},
   "source": [
    "## Scrape"
   ]
  },
  {
   "cell_type": "code",
   "execution_count": 2,
   "metadata": {
    "ExecuteTime": {
     "end_time": "2020-02-27T09:04:32.266001Z",
     "start_time": "2020-02-27T09:04:22.446720Z"
    }
   },
   "outputs": [],
   "source": [
    "link = 'https://www.dotabuff.com/heroes'\n",
    "driver = webdriver.Chrome(r'C:\\chromedriver')\n",
    "driver.get(link)\n",
    "urls = list(map(lambda x: x.get_attribute('href'),\n",
    "                driver\n",
    "                .find_elements_by_class_name('hero-grid')[0]\n",
    "                .find_elements_by_xpath(\"./a\")))\n",
    "\n",
    "patch_ext = ['/counters?date=patch_7.19', '/counters?date=patch_7.20', \n",
    "             '/counters?date=patch_7.21', '/counters?date=patch_7.22',\n",
    "             '/counters?date=patch_7.23', '/counters?date=patch_7.24']\n",
    "\n",
    "# list(map(lambda x: x,patch_ext))\n",
    "\n",
    "urls = reduce(lambda x, y: x+y, [list(map(lambda x: x+extension,urls)) for extension in patch_ext])"
   ]
  },
  {
   "cell_type": "code",
   "execution_count": 1,
   "metadata": {
    "ExecuteTime": {
     "end_time": "2020-03-31T12:41:05.770867Z",
     "start_time": "2020-03-31T12:41:05.762887Z"
    }
   },
   "outputs": [],
   "source": [
    "data_holder = []\n",
    "for i,url in enumerate(urls):\n",
    "#     print(f'Scraping: {url} , {i} out of {len(urls)} links.')\n",
    "    driver.get(url)\n",
    "    rows = driver.find_elements_by_class_name('sortable')[0].find_elements_by_xpath(\"./tbody/tr\")\n",
    "    df_tmp = pd.DataFrame(list(map(lambda x: \n",
    "                                   list(map(lambda y: \n",
    "                                            y.text,\n",
    "                                            x.find_elements_by_xpath('./td'))),\n",
    "                                   rows)))\n",
    "    df_tmp[0] = [url]*len(df_tmp)\n",
    "    data_holder.append(df_tmp)"
   ]
  },
  {
   "cell_type": "markdown",
   "metadata": {},
   "source": [
    "## Clean"
   ]
  },
  {
   "cell_type": "code",
   "execution_count": null,
   "metadata": {
    "ExecuteTime": {
     "start_time": "2020-02-27T14:51:16.383Z"
    }
   },
   "outputs": [],
   "source": [
    "from functools import reduce\n",
    "df_final = reduce(lambda x,y:x.append(y),data_holder)\n",
    "df_final = df_final.dropna()\n",
    "df_final = df_final.reset_index(drop=True)\n",
    "df_final.columns = ['url','to','advantage','winrate','number_matches']\n",
    "df_final['patch'] = df_final['url'].apply(lambda x: \n",
    "                                          re.findall(r'patch_(.*)',x)[0])\n",
    "df_final['from'] = df_final['url'].apply(lambda x: \n",
    "                                         re.findall(r'heroes/(.*)/counters',\n",
    "                                                    x)[0])\n",
    "df_final['from'] = df_final['from'].apply(lambda x: re.sub(r'-',' ',x))\n",
    "df_final['to'] = df_final['to'].apply(lambda x: re.sub(r'-',' ',x))\n",
    "df_final['to'] = df_final['to'].apply(lambda x: re.sub(r\"[']\",'',x))\n",
    "df_final['to'] = df_final['to'].str.lower()\n",
    "df_final['advantage'] = df_final['advantage'].apply(lambda x:\n",
    "                                                    re.sub(r'%','',x))\n",
    "df_final['advantage'] = df_final['advantage'].astype(float)\n",
    "df_final['winrate'] = df_final['winrate'].apply(lambda x: re.sub(r'%','',x))\n",
    "df_final['winrate'] = df_final['winrate'].astype(float)\n",
    "df_final['number_matches'] = df_final['number_matches'].apply(lambda x:\n",
    "                                                              re.sub(r',','',\n",
    "                                                                     x))\n",
    "df_final['number_matches'] = df_final['number_matches'].astype(float)\n",
    "df_final.head()"
   ]
  },
  {
   "cell_type": "markdown",
   "metadata": {},
   "source": [
    "## Check"
   ]
  },
  {
   "cell_type": "code",
   "execution_count": 21,
   "metadata": {
    "ExecuteTime": {
     "end_time": "2020-02-25T02:44:23.738797Z",
     "start_time": "2020-02-25T02:44:23.688939Z"
    }
   },
   "outputs": [
    {
     "name": "stdout",
     "output_type": "stream",
     "text": [
      "True\n"
     ]
    },
    {
     "data": {
      "text/plain": [
       "7021"
      ]
     },
     "execution_count": 21,
     "metadata": {},
     "output_type": "execute_result"
    }
   ],
   "source": [
    "print(all([x==y for x,y in zip(sorted(df_final['to'].unique()),\n",
    "                               sorted(df_final['from'].unique()))]))\n",
    "df_final['pairing'] = list(map(lambda x: \n",
    "                               sorted(list(x))[0]+'-'+sorted(list(x))[1],\n",
    "                               list(zip(df_final['from'], df_final['to']))))\n",
    "matchups = df_final['pairing'].unique()\n",
    "len(matchups)"
   ]
  },
  {
   "cell_type": "markdown",
   "metadata": {
    "ExecuteTime": {
     "end_time": "2020-02-24T14:04:51.558057Z",
     "start_time": "2020-02-24T14:04:51.539123Z"
    }
   },
   "source": [
    "## Drop Compliment Edges"
   ]
  },
  {
   "cell_type": "code",
   "execution_count": 18,
   "metadata": {
    "ExecuteTime": {
     "end_time": "2020-02-25T02:41:44.541087Z",
     "start_time": "2020-02-25T02:41:44.515644Z"
    }
   },
   "outputs": [],
   "source": [
    "idx = df_final.groupby('pairing')['winrate'].transform(max) == df_final['winrate']\n",
    "df_pairs = df_final[idx]"
   ]
  },
  {
   "cell_type": "markdown",
   "metadata": {},
   "source": [
    "## Delete 50/50 Duplicate Edges"
   ]
  },
  {
   "cell_type": "code",
   "execution_count": 19,
   "metadata": {
    "ExecuteTime": {
     "end_time": "2020-02-25T02:41:46.381705Z",
     "start_time": "2020-02-25T02:41:46.317409Z"
    }
   },
   "outputs": [
    {
     "name": "stdout",
     "output_type": "stream",
     "text": [
      "(7021, 8)\n"
     ]
    },
    {
     "data": {
      "text/html": [
       "<div>\n",
       "<style scoped>\n",
       "    .dataframe tbody tr th:only-of-type {\n",
       "        vertical-align: middle;\n",
       "    }\n",
       "\n",
       "    .dataframe tbody tr th {\n",
       "        vertical-align: top;\n",
       "    }\n",
       "\n",
       "    .dataframe thead th {\n",
       "        text-align: right;\n",
       "    }\n",
       "</style>\n",
       "<table border=\"1\" class=\"dataframe\">\n",
       "  <thead>\n",
       "    <tr style=\"text-align: right;\">\n",
       "      <th></th>\n",
       "      <th>url</th>\n",
       "      <th>to</th>\n",
       "      <th>advantage</th>\n",
       "      <th>winrate</th>\n",
       "      <th>number_matches</th>\n",
       "      <th>patch</th>\n",
       "      <th>from</th>\n",
       "      <th>pairing</th>\n",
       "    </tr>\n",
       "  </thead>\n",
       "  <tbody>\n",
       "    <tr>\n",
       "      <td>0</td>\n",
       "      <td>https://www.dotabuff.com/heroes/abaddon/counte...</td>\n",
       "      <td>broodmother</td>\n",
       "      <td>3.97</td>\n",
       "      <td>50.58</td>\n",
       "      <td>6896.0</td>\n",
       "      <td>7.24</td>\n",
       "      <td>abaddon</td>\n",
       "      <td>abaddon-broodmother</td>\n",
       "    </tr>\n",
       "    <tr>\n",
       "      <td>1</td>\n",
       "      <td>https://www.dotabuff.com/heroes/abaddon/counte...</td>\n",
       "      <td>outworld devourer</td>\n",
       "      <td>3.84</td>\n",
       "      <td>51.86</td>\n",
       "      <td>35464.0</td>\n",
       "      <td>7.24</td>\n",
       "      <td>abaddon</td>\n",
       "      <td>abaddon-outworld devourer</td>\n",
       "    </tr>\n",
       "    <tr>\n",
       "      <td>2</td>\n",
       "      <td>https://www.dotabuff.com/heroes/abaddon/counte...</td>\n",
       "      <td>pangolier</td>\n",
       "      <td>2.12</td>\n",
       "      <td>51.62</td>\n",
       "      <td>32114.0</td>\n",
       "      <td>7.24</td>\n",
       "      <td>abaddon</td>\n",
       "      <td>abaddon-pangolier</td>\n",
       "    </tr>\n",
       "    <tr>\n",
       "      <td>3</td>\n",
       "      <td>https://www.dotabuff.com/heroes/abaddon/counte...</td>\n",
       "      <td>lycan</td>\n",
       "      <td>2.05</td>\n",
       "      <td>54.74</td>\n",
       "      <td>3800.0</td>\n",
       "      <td>7.24</td>\n",
       "      <td>abaddon</td>\n",
       "      <td>abaddon-lycan</td>\n",
       "    </tr>\n",
       "    <tr>\n",
       "      <td>4</td>\n",
       "      <td>https://www.dotabuff.com/heroes/abaddon/counte...</td>\n",
       "      <td>lina</td>\n",
       "      <td>1.89</td>\n",
       "      <td>54.41</td>\n",
       "      <td>48743.0</td>\n",
       "      <td>7.24</td>\n",
       "      <td>abaddon</td>\n",
       "      <td>abaddon-lina</td>\n",
       "    </tr>\n",
       "  </tbody>\n",
       "</table>\n",
       "</div>"
      ],
      "text/plain": [
       "                                                 url                 to  \\\n",
       "0  https://www.dotabuff.com/heroes/abaddon/counte...        broodmother   \n",
       "1  https://www.dotabuff.com/heroes/abaddon/counte...  outworld devourer   \n",
       "2  https://www.dotabuff.com/heroes/abaddon/counte...          pangolier   \n",
       "3  https://www.dotabuff.com/heroes/abaddon/counte...              lycan   \n",
       "4  https://www.dotabuff.com/heroes/abaddon/counte...               lina   \n",
       "\n",
       "   advantage  winrate  number_matches patch     from  \\\n",
       "0       3.97    50.58          6896.0  7.24  abaddon   \n",
       "1       3.84    51.86         35464.0  7.24  abaddon   \n",
       "2       2.12    51.62         32114.0  7.24  abaddon   \n",
       "3       2.05    54.74          3800.0  7.24  abaddon   \n",
       "4       1.89    54.41         48743.0  7.24  abaddon   \n",
       "\n",
       "                     pairing  \n",
       "0        abaddon-broodmother  \n",
       "1  abaddon-outworld devourer  \n",
       "2          abaddon-pangolier  \n",
       "3              abaddon-lycan  \n",
       "4               abaddon-lina  "
      ]
     },
     "execution_count": 19,
     "metadata": {},
     "output_type": "execute_result"
    }
   ],
   "source": [
    "df_tmp = pd.DataFrame(df_pairs['pairing'].value_counts())\n",
    "df_pairs = df_pairs.drop([df_pairs[df_pairs['pairing']==pair].index[-1] \n",
    "                          for pair in df_tmp[df_tmp['pairing']>1].index], \n",
    "                         axis=0)\n",
    "df_pairs = df_pairs.reset_index(drop=True)\n",
    "print(df_pairs.shape)\n",
    "df_pairs.head()"
   ]
  },
  {
   "cell_type": "code",
   "execution_count": 20,
   "metadata": {
    "ExecuteTime": {
     "end_time": "2020-02-25T02:41:47.997845Z",
     "start_time": "2020-02-25T02:41:47.889351Z"
    }
   },
   "outputs": [],
   "source": [
    "patch = df_pairs['patch'].unique()[0]\n",
    "df_pairs.to_csv(f'Dota_Data_{patch}.csv')"
   ]
  },
  {
   "cell_type": "markdown",
   "metadata": {},
   "source": [
    "## Concatenate"
   ]
  },
  {
   "cell_type": "code",
   "execution_count": 106,
   "metadata": {
    "ExecuteTime": {
     "end_time": "2020-02-25T03:20:19.643495Z",
     "start_time": "2020-02-25T03:20:19.424855Z"
    }
   },
   "outputs": [
    {
     "data": {
      "text/html": [
       "<div>\n",
       "<style scoped>\n",
       "    .dataframe tbody tr th:only-of-type {\n",
       "        vertical-align: middle;\n",
       "    }\n",
       "\n",
       "    .dataframe tbody tr th {\n",
       "        vertical-align: top;\n",
       "    }\n",
       "\n",
       "    .dataframe thead th {\n",
       "        text-align: right;\n",
       "    }\n",
       "</style>\n",
       "<table border=\"1\" class=\"dataframe\">\n",
       "  <thead>\n",
       "    <tr style=\"text-align: right;\">\n",
       "      <th></th>\n",
       "      <th>from</th>\n",
       "      <th>to</th>\n",
       "      <th>disadvantage</th>\n",
       "      <th>winrate_from</th>\n",
       "      <th>winrate_to</th>\n",
       "      <th>number_matches</th>\n",
       "      <th>patch</th>\n",
       "      <th>pairing</th>\n",
       "      <th>url</th>\n",
       "    </tr>\n",
       "  </thead>\n",
       "  <tbody>\n",
       "    <tr>\n",
       "      <td>0</td>\n",
       "      <td>abaddon</td>\n",
       "      <td>slark</td>\n",
       "      <td>3.53</td>\n",
       "      <td>50.52</td>\n",
       "      <td>49.48</td>\n",
       "      <td>135700.0</td>\n",
       "      <td>7.19</td>\n",
       "      <td>abaddon-slark</td>\n",
       "      <td>https://www.dotabuff.com/heroes/abaddon/counte...</td>\n",
       "    </tr>\n",
       "    <tr>\n",
       "      <td>1</td>\n",
       "      <td>abaddon</td>\n",
       "      <td>broodmother</td>\n",
       "      <td>2.43</td>\n",
       "      <td>50.85</td>\n",
       "      <td>49.15</td>\n",
       "      <td>32125.0</td>\n",
       "      <td>7.19</td>\n",
       "      <td>abaddon-broodmother</td>\n",
       "      <td>https://www.dotabuff.com/heroes/abaddon/counte...</td>\n",
       "    </tr>\n",
       "    <tr>\n",
       "      <td>2</td>\n",
       "      <td>abaddon</td>\n",
       "      <td>enchantress</td>\n",
       "      <td>2.42</td>\n",
       "      <td>53.27</td>\n",
       "      <td>46.73</td>\n",
       "      <td>52719.0</td>\n",
       "      <td>7.19</td>\n",
       "      <td>abaddon-enchantress</td>\n",
       "      <td>https://www.dotabuff.com/heroes/abaddon/counte...</td>\n",
       "    </tr>\n",
       "    <tr>\n",
       "      <td>3</td>\n",
       "      <td>abaddon</td>\n",
       "      <td>outworld devourer</td>\n",
       "      <td>2.31</td>\n",
       "      <td>57.58</td>\n",
       "      <td>42.42</td>\n",
       "      <td>39110.0</td>\n",
       "      <td>7.19</td>\n",
       "      <td>abaddon-outworld devourer</td>\n",
       "      <td>https://www.dotabuff.com/heroes/abaddon/counte...</td>\n",
       "    </tr>\n",
       "    <tr>\n",
       "      <td>4</td>\n",
       "      <td>abaddon</td>\n",
       "      <td>alchemist</td>\n",
       "      <td>1.80</td>\n",
       "      <td>50.58</td>\n",
       "      <td>49.42</td>\n",
       "      <td>78021.0</td>\n",
       "      <td>7.19</td>\n",
       "      <td>abaddon-alchemist</td>\n",
       "      <td>https://www.dotabuff.com/heroes/abaddon/counte...</td>\n",
       "    </tr>\n",
       "  </tbody>\n",
       "</table>\n",
       "</div>"
      ],
      "text/plain": [
       "      from                 to  disadvantage  winrate_from  winrate_to  \\\n",
       "0  abaddon              slark          3.53         50.52       49.48   \n",
       "1  abaddon        broodmother          2.43         50.85       49.15   \n",
       "2  abaddon        enchantress          2.42         53.27       46.73   \n",
       "3  abaddon  outworld devourer          2.31         57.58       42.42   \n",
       "4  abaddon          alchemist          1.80         50.58       49.42   \n",
       "\n",
       "   number_matches  patch                    pairing  \\\n",
       "0        135700.0   7.19              abaddon-slark   \n",
       "1         32125.0   7.19        abaddon-broodmother   \n",
       "2         52719.0   7.19        abaddon-enchantress   \n",
       "3         39110.0   7.19  abaddon-outworld devourer   \n",
       "4         78021.0   7.19          abaddon-alchemist   \n",
       "\n",
       "                                                 url  \n",
       "0  https://www.dotabuff.com/heroes/abaddon/counte...  \n",
       "1  https://www.dotabuff.com/heroes/abaddon/counte...  \n",
       "2  https://www.dotabuff.com/heroes/abaddon/counte...  \n",
       "3  https://www.dotabuff.com/heroes/abaddon/counte...  \n",
       "4  https://www.dotabuff.com/heroes/abaddon/counte...  "
      ]
     },
     "execution_count": 106,
     "metadata": {},
     "output_type": "execute_result"
    }
   ],
   "source": [
    "data_patches = ['Dota_Data_719.csv','Dota_Data_720.csv','Dota_Data_721.csv',\n",
    "                'Dota_Data_722.csv','Dota_Data_723.csv','Dota_Data_724.csv']\n",
    "\n",
    "df = reduce(lambda x,y: x.append(y),\n",
    "            [pd.read_csv(patch_data) for patch_data in data_patches])\n",
    "df = df[['from','to','advantage','winrate','number_matches','patch','pairing','url']]\n",
    "df.columns = ['from','to','disadvantage','winrate_from','number_matches','patch','pairing','url']\n",
    "df['winrate_to'] = [100]*len(df)-df['winrate_from']\n",
    "df = df[['from','to','disadvantage','winrate_from','winrate_to','number_matches','patch','pairing','url']]\n",
    "df.head()"
   ]
  },
  {
   "cell_type": "code",
   "execution_count": 107,
   "metadata": {
    "ExecuteTime": {
     "end_time": "2020-02-25T03:21:33.340852Z",
     "start_time": "2020-02-25T03:21:32.937323Z"
    }
   },
   "outputs": [],
   "source": [
    "df.to_csv('Dota_Data_All_Patches.csv')"
   ]
  },
  {
   "cell_type": "markdown",
   "metadata": {},
   "source": [
    "## Prelim Analysis"
   ]
  },
  {
   "cell_type": "code",
   "execution_count": 125,
   "metadata": {
    "ExecuteTime": {
     "end_time": "2020-02-25T03:31:13.904737Z",
     "start_time": "2020-02-25T03:31:13.520783Z"
    }
   },
   "outputs": [
    {
     "data": {
      "text/plain": [
       "<matplotlib.axes._subplots.AxesSubplot at 0x1de9787a438>"
      ]
     },
     "execution_count": 125,
     "metadata": {},
     "output_type": "execute_result"
    },
    {
     "data": {
      "image/png": "[encoded data removed]",
      "text/plain": [
       "<Figure size 432x288 with 1 Axes>"
      ]
     },
     "metadata": {
      "needs_background": "light"
     },
     "output_type": "display_data"
    }
   ],
   "source": [
    "df[df['from']=='clockwerk']['winrate_from'].append(df[df['to']=='clockwerk']['winrate_to']).hist()"
   ]
  },
  {
   "cell_type": "code",
   "execution_count": 126,
   "metadata": {
    "ExecuteTime": {
     "end_time": "2020-02-25T03:32:04.550530Z",
     "start_time": "2020-02-25T03:32:04.131081Z"
    }
   },
   "outputs": [
    {
     "data": {
      "text/plain": [
       "<matplotlib.axes._subplots.AxesSubplot at 0x1de953228d0>"
      ]
     },
     "execution_count": 126,
     "metadata": {},
     "output_type": "execute_result"
    },
    {
     "data": {
      "image/png": "[encoded data removed]",
      "text/plain": [
       "<Figure size 432x288 with 1 Axes>"
      ]
     },
     "metadata": {
      "needs_background": "light"
     },
     "output_type": "display_data"
    }
   ],
   "source": [
    "df[df['from']=='pangolier']['winrate_from'].append(df[df['to']=='pangolier']['winrate_to']).hist()"
   ]
  },
  {
   "cell_type": "code",
   "execution_count": 131,
   "metadata": {
    "ExecuteTime": {
     "end_time": "2020-02-25T03:56:03.286986Z",
     "start_time": "2020-02-25T03:56:03.234976Z"
    }
   },
   "outputs": [
    {
     "data": {
      "text/html": [
       "<div>\n",
       "<style scoped>\n",
       "    .dataframe tbody tr th:only-of-type {\n",
       "        vertical-align: middle;\n",
       "    }\n",
       "\n",
       "    .dataframe tbody tr th {\n",
       "        vertical-align: top;\n",
       "    }\n",
       "\n",
       "    .dataframe thead th {\n",
       "        text-align: right;\n",
       "    }\n",
       "</style>\n",
       "<table border=\"1\" class=\"dataframe\">\n",
       "  <thead>\n",
       "    <tr style=\"text-align: right;\">\n",
       "      <th></th>\n",
       "      <th>from</th>\n",
       "      <th>to</th>\n",
       "      <th>disadvantage</th>\n",
       "      <th>winrate_from</th>\n",
       "      <th>winrate_to</th>\n",
       "      <th>number_matches</th>\n",
       "      <th>patch</th>\n",
       "      <th>pairing</th>\n",
       "      <th>url</th>\n",
       "    </tr>\n",
       "  </thead>\n",
       "  <tbody>\n",
       "    <tr>\n",
       "      <td>1255</td>\n",
       "      <td>clockwerk</td>\n",
       "      <td>nyx assassin</td>\n",
       "      <td>-0.18</td>\n",
       "      <td>50.86</td>\n",
       "      <td>49.14</td>\n",
       "      <td>99820.0</td>\n",
       "      <td>7.19</td>\n",
       "      <td>clockwerk-nyx assassin</td>\n",
       "      <td>https://www.dotabuff.com/heroes/clockwerk/coun...</td>\n",
       "    </tr>\n",
       "    <tr>\n",
       "      <td>1147</td>\n",
       "      <td>clockwerk</td>\n",
       "      <td>nyx assassin</td>\n",
       "      <td>-0.24</td>\n",
       "      <td>52.27</td>\n",
       "      <td>47.73</td>\n",
       "      <td>28033.0</td>\n",
       "      <td>7.20</td>\n",
       "      <td>clockwerk-nyx assassin</td>\n",
       "      <td>https://www.dotabuff.com/heroes/clockwerk/coun...</td>\n",
       "    </tr>\n",
       "    <tr>\n",
       "      <td>1161</td>\n",
       "      <td>clockwerk</td>\n",
       "      <td>nyx assassin</td>\n",
       "      <td>-0.06</td>\n",
       "      <td>50.43</td>\n",
       "      <td>49.57</td>\n",
       "      <td>77344.0</td>\n",
       "      <td>7.21</td>\n",
       "      <td>clockwerk-nyx assassin</td>\n",
       "      <td>https://www.dotabuff.com/heroes/clockwerk/coun...</td>\n",
       "    </tr>\n",
       "    <tr>\n",
       "      <td>1227</td>\n",
       "      <td>clockwerk</td>\n",
       "      <td>nyx assassin</td>\n",
       "      <td>0.37</td>\n",
       "      <td>54.00</td>\n",
       "      <td>46.00</td>\n",
       "      <td>92908.0</td>\n",
       "      <td>7.22</td>\n",
       "      <td>clockwerk-nyx assassin</td>\n",
       "      <td>https://www.dotabuff.com/heroes/clockwerk/coun...</td>\n",
       "    </tr>\n",
       "    <tr>\n",
       "      <td>1111</td>\n",
       "      <td>clockwerk</td>\n",
       "      <td>nyx assassin</td>\n",
       "      <td>0.13</td>\n",
       "      <td>54.28</td>\n",
       "      <td>45.72</td>\n",
       "      <td>27084.0</td>\n",
       "      <td>7.23</td>\n",
       "      <td>clockwerk-nyx assassin</td>\n",
       "      <td>https://www.dotabuff.com/heroes/clockwerk/coun...</td>\n",
       "    </tr>\n",
       "    <tr>\n",
       "      <td>1068</td>\n",
       "      <td>clockwerk</td>\n",
       "      <td>nyx assassin</td>\n",
       "      <td>0.42</td>\n",
       "      <td>51.70</td>\n",
       "      <td>48.30</td>\n",
       "      <td>36114.0</td>\n",
       "      <td>7.24</td>\n",
       "      <td>clockwerk-nyx assassin</td>\n",
       "      <td>https://www.dotabuff.com/heroes/clockwerk/coun...</td>\n",
       "    </tr>\n",
       "  </tbody>\n",
       "</table>\n",
       "</div>"
      ],
      "text/plain": [
       "           from            to  disadvantage  winrate_from  winrate_to  \\\n",
       "1255  clockwerk  nyx assassin         -0.18         50.86       49.14   \n",
       "1147  clockwerk  nyx assassin         -0.24         52.27       47.73   \n",
       "1161  clockwerk  nyx assassin         -0.06         50.43       49.57   \n",
       "1227  clockwerk  nyx assassin          0.37         54.00       46.00   \n",
       "1111  clockwerk  nyx assassin          0.13         54.28       45.72   \n",
       "1068  clockwerk  nyx assassin          0.42         51.70       48.30   \n",
       "\n",
       "      number_matches  patch                 pairing  \\\n",
       "1255         99820.0   7.19  clockwerk-nyx assassin   \n",
       "1147         28033.0   7.20  clockwerk-nyx assassin   \n",
       "1161         77344.0   7.21  clockwerk-nyx assassin   \n",
       "1227         92908.0   7.22  clockwerk-nyx assassin   \n",
       "1111         27084.0   7.23  clockwerk-nyx assassin   \n",
       "1068         36114.0   7.24  clockwerk-nyx assassin   \n",
       "\n",
       "                                                    url  \n",
       "1255  https://www.dotabuff.com/heroes/clockwerk/coun...  \n",
       "1147  https://www.dotabuff.com/heroes/clockwerk/coun...  \n",
       "1161  https://www.dotabuff.com/heroes/clockwerk/coun...  \n",
       "1227  https://www.dotabuff.com/heroes/clockwerk/coun...  \n",
       "1111  https://www.dotabuff.com/heroes/clockwerk/coun...  \n",
       "1068  https://www.dotabuff.com/heroes/clockwerk/coun...  "
      ]
     },
     "execution_count": 131,
     "metadata": {},
     "output_type": "execute_result"
    }
   ],
   "source": [
    "import matplotlib.pyplot as plt\n",
    "df[df['pairing']=='clockwerk-nyx assassin']"
   ]
  },
  {
   "cell_type": "markdown",
   "metadata": {},
   "source": [
    "## Rankings Scrape"
   ]
  },
  {
   "cell_type": "code",
   "execution_count": 2,
   "metadata": {
    "ExecuteTime": {
     "end_time": "2020-03-04T07:49:14.901859Z",
     "start_time": "2020-03-04T07:47:09.836139Z"
    }
   },
   "outputs": [
    {
     "name": "stdout",
     "output_type": "stream",
     "text": [
      "Scraping: https://www.dotabuff.com/heroes/winning?date=patch_7.19 , 0 out of 6 links.\n",
      "Scraping: https://www.dotabuff.com/heroes/winning?date=patch_7.20 , 1 out of 6 links.\n",
      "Scraping: https://www.dotabuff.com/heroes/winning?date=patch_7.21 , 2 out of 6 links.\n",
      "Scraping: https://www.dotabuff.com/heroes/winning?date=patch_7.22 , 3 out of 6 links.\n",
      "Scraping: https://www.dotabuff.com/heroes/winning?date=patch_7.23 , 4 out of 6 links.\n",
      "Scraping: https://www.dotabuff.com/heroes/winning?date=patch_7.24 , 5 out of 6 links.\n"
     ]
    }
   ],
   "source": [
    "driver = webdriver.Chrome(r'C:\\chromedriver')\n",
    "\n",
    "\n",
    "urls = ['https://www.dotabuff.com/heroes/winning?date=patch_7.19',\n",
    "        'https://www.dotabuff.com/heroes/winning?date=patch_7.20', \n",
    "        'https://www.dotabuff.com/heroes/winning?date=patch_7.21', \n",
    "        'https://www.dotabuff.com/heroes/winning?date=patch_7.22',\n",
    "        'https://www.dotabuff.com/heroes/winning?date=patch_7.23', \n",
    "        'https://www.dotabuff.com/heroes/winning?date=patch_7.24']\n",
    "\n",
    "data_holder = []\n",
    "for i, url in enumerate(urls):\n",
    "    print(f'Scraping: {url} , {i} out of {len(urls)} links.')\n",
    "    driver.get(url)\n",
    "    rows = driver.find_elements_by_class_name('sortable')[0].find_elements_by_xpath(\"./tbody/tr\")\n",
    "    df_tmp = pd.DataFrame(list(map(lambda x: \n",
    "                                   list(map(lambda y: \n",
    "                                            y.text,\n",
    "                                            x.find_elements_by_xpath('./td'))),\n",
    "                                   rows)))\n",
    "    df_tmp[0] = [url]*len(df_tmp)\n",
    "    data_holder.append(df_tmp)"
   ]
  },
  {
   "cell_type": "code",
   "execution_count": 19,
   "metadata": {
    "ExecuteTime": {
     "end_time": "2020-03-04T07:56:53.465045Z",
     "start_time": "2020-03-04T07:56:53.401080Z"
    }
   },
   "outputs": [],
   "source": [
    "def change_df(df):\n",
    "    \n",
    "    df.columns=['url','hero','winrate','pickrate','kda_ratio']\n",
    "    \n",
    "    df['hero'] = df['hero'].str.lower()\n",
    "    df['hero'] = df['hero'].str.replace(\"'\",'')\n",
    "    df['hero'] = df['hero'].str.replace(\"-\",'')\n",
    "    \n",
    "    df['winrate'] = df['winrate'].str.replace('%','')\n",
    "    df['winrate'] = df['winrate'].astype(float)\n",
    "    \n",
    "    df['pickrate'] = df['pickrate'].str.replace('%','')\n",
    "    df['pickrate'] = df['pickrate'].astype(float)\n",
    "    \n",
    "    return df\n",
    "\n",
    "data_tmp = list(map(lambda x: change_df(x), data_holder))"
   ]
  },
  {
   "cell_type": "code",
   "execution_count": 22,
   "metadata": {
    "ExecuteTime": {
     "end_time": "2020-03-04T08:00:24.411494Z",
     "start_time": "2020-03-04T08:00:24.402566Z"
    }
   },
   "outputs": [],
   "source": [
    "def patch(x):\n",
    "    x[1]['patch'] = [x[0]]*len(x[1])\n",
    "    return x[1]"
   ]
  },
  {
   "cell_type": "code",
   "execution_count": 26,
   "metadata": {
    "ExecuteTime": {
     "end_time": "2020-03-04T08:03:26.241439Z",
     "start_time": "2020-03-04T08:03:26.234457Z"
    }
   },
   "outputs": [],
   "source": [
    "data_tmp = list(map(lambda x: patch(x), zip(['7.19','7.20','7.21','7.22','7.23','7.24'], data_tmp)))"
   ]
  },
  {
   "cell_type": "code",
   "execution_count": 28,
   "metadata": {
    "ExecuteTime": {
     "end_time": "2020-03-04T08:03:48.454205Z",
     "start_time": "2020-03-04T08:03:48.409787Z"
    }
   },
   "outputs": [],
   "source": [
    "df_final = reduce(lambda x, y: x.append(y), data_tmp)"
   ]
  },
  {
   "cell_type": "code",
   "execution_count": 30,
   "metadata": {
    "ExecuteTime": {
     "end_time": "2020-03-04T08:04:18.700243Z",
     "start_time": "2020-03-04T08:04:18.464206Z"
    }
   },
   "outputs": [],
   "source": [
    "df_final.to_csv('winrates.csv')"
   ]
  }
 ],
 "metadata": {
  "kernelspec": {
   "display_name": "Python 3",
   "language": "python",
   "name": "python3"
  },
  "language_info": {
   "codemirror_mode": {
    "name": "ipython",
    "version": 3
   },
   "file_extension": ".py",
   "mimetype": "text/x-python",
   "name": "python",
   "nbconvert_exporter": "python",
   "pygments_lexer": "ipython3",
   "version": "3.7.6"
  },
  "toc": {
   "base_numbering": 1,
   "nav_menu": {},
   "number_sections": true,
   "sideBar": true,
   "skip_h1_title": false,
   "title_cell": "Table of Contents",
   "title_sidebar": "Contents",
   "toc_cell": false,
   "toc_position": {},
   "toc_section_display": true,
   "toc_window_display": false
  }
 },
 "nbformat": 4,
 "nbformat_minor": 2
}
